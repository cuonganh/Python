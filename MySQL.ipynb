{
 "cells": [
  {
   "cell_type": "code",
   "execution_count": 118,
   "metadata": {},
   "outputs": [
    {
     "name": "stdout",
     "output_type": "stream",
     "text": [
      "<mysql.connector.connection_cext.CMySQLConnection object at 0x000001C2B757BF70>\n",
      "('information_schema',)\n",
      "('mydatabase',)\n",
      "('mysql',)\n",
      "('performance_schema',)\n",
      "('sakila',)\n",
      "('schoolmanagement',)\n",
      "('sys',)\n",
      "('world',)\n"
     ]
    }
   ],
   "source": [
    "#MySQL Create database\n",
    "import mysql.connector\n",
    "mydb = mysql.connector.connect(\n",
    "    host = \"127.0.0.1\",\n",
    "    user = \"cuonganh\",\n",
    "    password = \"123654789\"\n",
    ")\n",
    "print(mydb)\n",
    "mycursor = mydb.cursor()\n",
    "\n",
    "sql_createDB = \"CREATE database mydatabase\"\n",
    "sql_showDBs = \"SHOW DATABASES\"\n",
    "\n",
    "# mycursor.execute(sql_createDB)\n",
    "mycursor.execute(sql_showDBs)\n",
    "\n",
    "for x in mycursor:\n",
    "    print(x)"
   ]
  },
  {
   "cell_type": "code",
   "execution_count": 99,
   "metadata": {},
   "outputs": [
    {
     "name": "stdout",
     "output_type": "stream",
     "text": [
      "('customers',)\n"
     ]
    }
   ],
   "source": [
    "#MySQL Create table\n",
    "\n",
    "mydb = mysql.connector.connect(\n",
    "    host = \"127.0.0.1\",\n",
    "    user = \"cuonganh\",\n",
    "    password = \"123654789\",\n",
    "    database = \"mydatabase\"\n",
    ")\n",
    "mycursor = mydb.cursor()\n",
    "\n",
    "sql_dropTB = \"DROP TABLE IF EXISTS customers\"\n",
    "sql_createTB = \"CREATE TABLE customers (id INT AUTO_INCREMENT PRIMARY KEY, name VARCHAR(255), address VARCHAR(255))\"\n",
    "\n",
    "# mycursor.execute(sql_createTB)\n",
    "mycursor.execute(\"SHOW TABLES\")\n",
    "\n",
    "for x in mycursor:\n",
    "  print(x)"
   ]
  },
  {
   "cell_type": "code",
   "execution_count": 110,
   "metadata": {},
   "outputs": [
    {
     "name": "stdout",
     "output_type": "stream",
     "text": [
      "13  was inserted\n"
     ]
    }
   ],
   "source": [
    "#MySQL Insert \n",
    "mydb = mysql.connector.connect(\n",
    "    host = \"127.0.0.1\",\n",
    "    user = \"cuonganh\",\n",
    "    password = \"123654789\",\n",
    "    database = \"mydatabase\"\n",
    ")\n",
    "mycursor = mydb.cursor()\n",
    "\n",
    "sql_insert = \"INSERT INTO customers (name, address) VALUES (%s, %s)\"\n",
    "\n",
    "values = [('Peter', 'Lowstreet 4'),\n",
    "  ('Amy', 'Apple st 652'),\n",
    "  ('Hannah', 'Mountain 21'),\n",
    "  ('Michael', 'Valley 345'),\n",
    "  ('Sandy', 'Ocean blvd 2'),\n",
    "  ('Betty', 'Green Grass 1'),\n",
    "  ('Richard', 'Sky st 331'),\n",
    "  ('Susan', 'One way 98'),\n",
    "  ('Vicky', 'Yellow Garden 2'),\n",
    "  ('Ben', 'Park Lane 38'),\n",
    "  ('William', 'Central st 954'),\n",
    "  ('Chuck', 'Main Road 989'),\n",
    "  ('Viola', 'Sideway 1633')\n",
    "]\n",
    "\n",
    "mycursor.executemany(sql_insert, values)\n",
    "mydb.commit()\n",
    "\n",
    "print(mycursor.rowcount, \" was inserted\")"
   ]
  },
  {
   "cell_type": "code",
   "execution_count": 119,
   "metadata": {},
   "outputs": [],
   "source": [
    "#MySQL Select\n",
    "mydb = mysql.connector.connect(\n",
    "    host = \"127.0.0.1\",\n",
    "    user = \"cuonganh\",\n",
    "    password = \"123654789\",\n",
    "    database = \"mydatabase\"\n",
    ")\n",
    "mycursor = mydb.cursor()\n",
    "\n",
    "sql_select = \"SELECT id, name, address from customers\"\n",
    "\n",
    "mycursor.execute(sql_select)\n",
    "\n",
    "myresult = mycursor.fetchall()\n",
    "for x in myresult:\n",
    "    print(x)"
   ]
  },
  {
   "cell_type": "code",
   "execution_count": 108,
   "metadata": {},
   "outputs": [],
   "source": [
    "#MySQL Where\n",
    "mydb = mysql.connector.connect(\n",
    "    host = \"127.0.0.1\",\n",
    "    user = \"cuonganh\",\n",
    "    password = \"123654789\",\n",
    "    database = \"mydatabase\"\n",
    ")\n",
    "mycursor = mydb.cursor()\n",
    "\n",
    "sql_where_select = \"SELECT * FROM customers WHERE id <= 13\"\n",
    "sql_where_wildCard = \"SELECT * from customers where address like '%way%' \"\n",
    "\n",
    "# mycursor.execute(sql_where_select)\n",
    "mycursor.execute(sql_where_wildCard)\n",
    "\n",
    "myresult = mycursor.fetchall()\n",
    "for x in myresult:\n",
    "  print(x)"
   ]
  },
  {
   "cell_type": "code",
   "execution_count": 107,
   "metadata": {},
   "outputs": [],
   "source": [
    "#MySQL Order By\n",
    "mydb = mysql.connector.connect(\n",
    "    host = \"127.0.0.1\",\n",
    "    user = \"cuonganh\",\n",
    "    password = \"123654789\",\n",
    "    database = \"mydatabase\"\n",
    ")\n",
    "mycursor = mydb.cursor()\n",
    "\n",
    "sql_orderBy = \"SELECT * from customers order by name\"\n",
    "sql_orderByDESC = \"SELECT * from customers order by name desc\"\n",
    "\n",
    "# mycursor.execute(sql_orderBy)\n",
    "mycursor.execute(sql_orderByDESC)\n",
    "\n",
    "myresult = mycursor.fetchall()\n",
    "for x in myresult:\n",
    "    print(x)"
   ]
  },
  {
   "cell_type": "code",
   "execution_count": 131,
   "metadata": {},
   "outputs": [
    {
     "name": "stdout",
     "output_type": "stream",
     "text": [
      "0  record(s) deleted\n"
     ]
    }
   ],
   "source": [
    "#MySQL Delete\n",
    "mydb = mysql.connector.connect(\n",
    "    host = \"127.0.0.1\",\n",
    "    user = \"cuonganh\",\n",
    "    password = \"123654789\",\n",
    "    database = \"mydatabase\"\n",
    ")\n",
    "mycursor = mydb.cursor()\n",
    "\n",
    "sql_delete = \"DELETE from customers where id > %s\"\n",
    "delete_ids = (\"13\",)\n",
    "\n",
    "mycursor.execute(sql_delete, delete_ids)\n",
    "mydb.commit()\n",
    "\n",
    "print(mycursor.rowcount, \" record(s) deleted\")"
   ]
  },
  {
   "cell_type": "code",
   "execution_count": 133,
   "metadata": {},
   "outputs": [],
   "source": [
    "#MySQL Drop Table\n",
    "mydb = mysql.connector.connect(\n",
    "    host = \"127.0.0.1\",\n",
    "    user = \"cuonganh\",\n",
    "    password = \"123654789\",\n",
    "    database = \"mydatabase\"\n",
    ")\n",
    "mycursor = mydb.cursor()\n",
    "\n",
    "sql_dropTB = \"DROP TABLE IF EXISTS customers\"\n",
    "\n",
    "# mycursor.execute(sql_dropTB)"
   ]
  },
  {
   "cell_type": "code",
   "execution_count": 136,
   "metadata": {},
   "outputs": [],
   "source": [
    "#MySQL Limit\n",
    "mydb = mysql.connector.connect(\n",
    "    host = \"127.0.0.1\",\n",
    "    user = \"cuonganh\",\n",
    "    password = \"123654789\",\n",
    "    database = \"mydatabase\"\n",
    ")\n",
    "mycursor = mydb.cursor()\n",
    "\n",
    "sql_limit = \"SELECT * FROM customers LIMIT 10\"\n",
    "sql_limit_offset = \"SELECT * FROM customers LIMIT 5 OFFSET 2\"\n",
    "\n",
    "mycursor.execute(sql_limit_offset)\n",
    "\n",
    "myresult = mycursor.fetchall()\n",
    "for x in myresult:\n",
    "    print(x)"
   ]
  },
  {
   "cell_type": "code",
   "execution_count": 58,
   "metadata": {},
   "outputs": [
    {
     "name": "stdout",
     "output_type": "stream",
     "text": [
      "('Peter', 'Chocolate Heaven')\n",
      "('John', 'Chocolate Heaven')\n",
      "('Amy', 'Tasty Lemons')\n",
      "(None, 'Vanilla Dreams')\n"
     ]
    }
   ],
   "source": [
    "#MySQL Join\n",
    "import mysql.connector\n",
    "mydb = mysql.connector.connect(\n",
    "    host = \"127.0.0.1\",\n",
    "    user = \"cuonganh\",\n",
    "    password = \"123654789\",\n",
    "    database = \"mydatabase\"\n",
    ")\n",
    "mycursor = mydb.cursor()\n",
    "\n",
    "sql_createTB_users = \"CREATE TABLE users (id varchar(10), name varchar(50), fav varchar(50))\"\n",
    "sql_createTB_products = \"CREATE TABLE products (id varchar(10), name varchar(50))\"\n",
    "sql_showTBs = \"SHOW TABLES\"\n",
    "\n",
    "# mycursor.execute(sql_createTB_users)\n",
    "# mycursor.execute(sql_createTB_products)\n",
    "# mycursor.execute(\"ALTER TABLE products MODIFY COLUMN id varchar(10)\")\n",
    "\n",
    "sql_insert_users = \"INSERT INTO users (id, name, fav) VALUES (%s, %s, %s)\"\n",
    "sql_insert_products = \"INSERT INTO products (id, name) VALUES (%s, %s)\"\n",
    "\n",
    "values_users = [\n",
    "    ('1','John','154'),\n",
    "    ('2','Peter', '154'),\n",
    "    ('3', 'Amy', '155'),\n",
    "    ('4','Hannah',''),\n",
    "    ('5', 'Michael','')\n",
    "]\n",
    "\n",
    "values_products = [\n",
    "    ('154', 'Chocolate Heaven'),\n",
    "    ('155', 'Tasty Lemons'),\n",
    "    ('156', 'Vanilla Dreams')\n",
    "]\n",
    "\n",
    "# mycursor.executemany(sql_insert_users, values_users)\n",
    "# mycursor.executemany(sql_insert_products, values_products)\n",
    "# mydb.commit()\n",
    "# print(mycursor.rowcount, \" records was insertd\")\n",
    "\n",
    "sql_join_inner = \"SELECT users.name AS user, products.name AS favorite\\\n",
    "                FROM users INNER JOIN products ON users.fav = products.id\"\n",
    "\n",
    "sql_join_left = \"SELECT users.name AS user, products.name AS favorite\\\n",
    "                FROM users LEFT JOIN products ON users.fav = products.id\"\n",
    "                \n",
    "sql_join_right = \"SELECT users.name AS user, products.name AS favorite\\\n",
    "                FROM users RIGHT JOIN products ON users.fav = products.id\"\n",
    "\n",
    "mycursor.execute(sql_join_right)\n",
    "myresult = mycursor.fetchall()\n",
    "for x in myresult:\n",
    "  print(x)\n"
   ]
  }
 ],
 "metadata": {
  "interpreter": {
   "hash": "3bde2b74570ca0d66294cb53f469c00e5672d59dddceea4a5935cac7573f3d25"
  },
  "kernelspec": {
   "display_name": "Python 3.9.7 64-bit",
   "language": "python",
   "name": "python3"
  },
  "language_info": {
   "codemirror_mode": {
    "name": "ipython",
    "version": 3
   },
   "file_extension": ".py",
   "mimetype": "text/x-python",
   "name": "python",
   "nbconvert_exporter": "python",
   "pygments_lexer": "ipython3",
   "version": "3.9.7"
  },
  "orig_nbformat": 4
 },
 "nbformat": 4,
 "nbformat_minor": 2
}
